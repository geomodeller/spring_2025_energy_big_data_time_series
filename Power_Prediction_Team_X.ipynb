{
 "cells": [
  {
   "cell_type": "markdown",
   "id": "c293d373",
   "metadata": {},
   "source": [
    "## 전력 수요 예측 과제 제출 안내\n",
    "\n",
    "- 모든 팀은 아래 **4개 파일**을 제출해야 합니다.\n",
    "- **제출 마감: 6월 18일(수) PM 11:00**  \n",
    "    - 제출: **iClass 업로드**\n",
    "\n",
    "### 제출물 목록 (총 4개)\n",
    "\n",
    "1. **예측 결과 CSV**\n",
    "   - 파일명: `power_demand_in_2023_team_X.csv`\n",
    "\n",
    "2. **전처리된 Input 파일**\n",
    "   - 파일명: `preprocessed_input_team_X.csv`\n",
    "\n",
    "3. **전체 과정이 포함된 .ipynb 파일**\n",
    "   - 파일명: `Power_Prediction_Team_X.ipynb`\n",
    "   - 데이터 로딩 → 전처리 → 피처 엔지니어링 → 학습 및 예측까지 전 과정 포함\n",
    "\n",
    "4. **발표용 PPT**\n",
    "   - 파일명: `Presentation_Team_X.pdf` \n",
    "\n",
    "### 발표 안내\n",
    "\n",
    "- **발표 시간: 총 15분** (발표 12분 + 질의응답 3분)\n",
    "- **발표 시간 초과 시 감점 처리**\n",
    "\n",
    "#### 발표 목차 (권장 구성)\n",
    "1. **Data & Preprocessing**  \n",
    "2. **Feature Engineering**  \n",
    "3. **Machine Learning & Hyperparameter Tuning**  \n",
    "4. **Outcomes**  \n",
    "5. **Conclusion**\n",
    "   - **[필수] PPT 맨 뒤에 사용한 feature들의 출처를 명확히 표기**  \n",
    "     (예: 기상청, 한국전력거래소 등)"
   ]
  },
  {
   "cell_type": "markdown",
   "id": "8d49c6a6",
   "metadata": {},
   "source": [
    "---"
   ]
  },
  {
   "cell_type": "markdown",
   "id": "0b2091e6",
   "metadata": {},
   "source": [
    "### **Step 1**: Data Pre-Propecessing"
   ]
  },
  {
   "cell_type": "markdown",
   "id": "0e115a71",
   "metadata": {},
   "source": [
    "### **Step 2**: Feature Engineering"
   ]
  },
  {
   "cell_type": "markdown",
   "id": "f629f756",
   "metadata": {},
   "source": [
    "### **Step 2-1**: Save Preprocessed Training Data"
   ]
  },
  {
   "cell_type": "markdown",
   "id": "98de2d31",
   "metadata": {},
   "source": [
    "### **Step 3**: Model Training & Prediction : Machine Learning & Hyper-Parameter Tunning Process"
   ]
  },
  {
   "cell_type": "markdown",
   "id": "89c6d522",
   "metadata": {},
   "source": [
    "### **Step 4**: Outcomes"
   ]
  },
  {
   "cell_type": "markdown",
   "id": "d067d9d1",
   "metadata": {},
   "source": [
    "### **Step 4-1**: Save Submission file"
   ]
  }
 ],
 "metadata": {
  "kernelspec": {
   "display_name": "Python 3",
   "language": "python",
   "name": "python3"
  },
  "language_info": {
   "name": "python",
   "version": "3.12.10"
  }
 },
 "nbformat": 4,
 "nbformat_minor": 5
}
